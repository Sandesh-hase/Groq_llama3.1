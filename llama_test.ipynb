{
 "cells": [
  {
   "cell_type": "code",
   "execution_count": 1,
   "metadata": {},
   "outputs": [
    {
     "name": "stdout",
     "output_type": "stream",
     "text": [
      "Collecting groq\n",
      "  Downloading groq-0.9.0-py3-none-any.whl.metadata (13 kB)\n",
      "Collecting anyio<5,>=3.5.0 (from groq)\n",
      "  Using cached anyio-4.4.0-py3-none-any.whl.metadata (4.6 kB)\n",
      "Collecting distro<2,>=1.7.0 (from groq)\n",
      "  Using cached distro-1.9.0-py3-none-any.whl.metadata (6.8 kB)\n",
      "Collecting httpx<1,>=0.23.0 (from groq)\n",
      "  Using cached httpx-0.27.0-py3-none-any.whl.metadata (7.2 kB)\n",
      "Requirement already satisfied: pydantic<3,>=1.9.0 in c:\\users\\sandesh\\appdata\\local\\packages\\pythonsoftwarefoundation.python.3.11_qbz5n2kfra8p0\\localcache\\local-packages\\python311\\site-packages (from groq) (2.8.2)\n",
      "Collecting sniffio (from groq)\n",
      "  Using cached sniffio-1.3.1-py3-none-any.whl.metadata (3.9 kB)\n",
      "Requirement already satisfied: typing-extensions<5,>=4.7 in c:\\users\\sandesh\\appdata\\local\\packages\\pythonsoftwarefoundation.python.3.11_qbz5n2kfra8p0\\localcache\\local-packages\\python311\\site-packages (from groq) (4.12.2)\n",
      "Requirement already satisfied: idna>=2.8 in c:\\users\\sandesh\\appdata\\local\\packages\\pythonsoftwarefoundation.python.3.11_qbz5n2kfra8p0\\localcache\\local-packages\\python311\\site-packages (from anyio<5,>=3.5.0->groq) (3.7)\n",
      "Requirement already satisfied: certifi in c:\\users\\sandesh\\appdata\\local\\packages\\pythonsoftwarefoundation.python.3.11_qbz5n2kfra8p0\\localcache\\local-packages\\python311\\site-packages (from httpx<1,>=0.23.0->groq) (2024.7.4)\n",
      "Collecting httpcore==1.* (from httpx<1,>=0.23.0->groq)\n",
      "  Using cached httpcore-1.0.5-py3-none-any.whl.metadata (20 kB)\n",
      "Collecting h11<0.15,>=0.13 (from httpcore==1.*->httpx<1,>=0.23.0->groq)\n",
      "  Using cached h11-0.14.0-py3-none-any.whl.metadata (8.2 kB)\n",
      "Requirement already satisfied: annotated-types>=0.4.0 in c:\\users\\sandesh\\appdata\\local\\packages\\pythonsoftwarefoundation.python.3.11_qbz5n2kfra8p0\\localcache\\local-packages\\python311\\site-packages (from pydantic<3,>=1.9.0->groq) (0.7.0)\n",
      "Requirement already satisfied: pydantic-core==2.20.1 in c:\\users\\sandesh\\appdata\\local\\packages\\pythonsoftwarefoundation.python.3.11_qbz5n2kfra8p0\\localcache\\local-packages\\python311\\site-packages (from pydantic<3,>=1.9.0->groq) (2.20.1)\n",
      "Downloading groq-0.9.0-py3-none-any.whl (103 kB)\n",
      "   ---------------------------------------- 0.0/103.5 kB ? eta -:--:--\n",
      "   --- ------------------------------------ 10.2/103.5 kB ? eta -:--:--\n",
      "   ----------- --------------------------- 30.7/103.5 kB 435.7 kB/s eta 0:00:01\n",
      "   -------------------------------------  102.4/103.5 kB 980.4 kB/s eta 0:00:01\n",
      "   -------------------------------------- 103.5/103.5 kB 745.7 kB/s eta 0:00:00\n",
      "Using cached anyio-4.4.0-py3-none-any.whl (86 kB)\n",
      "Using cached distro-1.9.0-py3-none-any.whl (20 kB)\n",
      "Using cached httpx-0.27.0-py3-none-any.whl (75 kB)\n",
      "Using cached httpcore-1.0.5-py3-none-any.whl (77 kB)\n",
      "Using cached sniffio-1.3.1-py3-none-any.whl (10 kB)\n",
      "Using cached h11-0.14.0-py3-none-any.whl (58 kB)\n",
      "Installing collected packages: sniffio, h11, distro, httpcore, anyio, httpx, groq\n",
      "Successfully installed anyio-4.4.0 distro-1.9.0 groq-0.9.0 h11-0.14.0 httpcore-1.0.5 httpx-0.27.0 sniffio-1.3.1\n"
     ]
    },
    {
     "name": "stderr",
     "output_type": "stream",
     "text": [
      "\n",
      "[notice] A new release of pip is available: 24.0 -> 24.1.2\n",
      "[notice] To update, run: C:\\Users\\Sandesh\\AppData\\Local\\Microsoft\\WindowsApps\\PythonSoftwareFoundation.Python.3.11_qbz5n2kfra8p0\\python.exe -m pip install --upgrade pip\n"
     ]
    }
   ],
   "source": [
    "!pip install groq"
   ]
  },
  {
   "cell_type": "code",
   "execution_count": 13,
   "metadata": {},
   "outputs": [
    {
     "data": {
      "text/plain": [
       "True"
      ]
     },
     "execution_count": 13,
     "metadata": {},
     "output_type": "execute_result"
    }
   ],
   "source": [
    "import os\n",
    "from groq import Groq\n",
    "from dotenv import load_dotenv\n",
    "load_dotenv()"
   ]
  },
  {
   "cell_type": "markdown",
   "metadata": {},
   "source": [
    "**Loading the environment variables**"
   ]
  },
  {
   "cell_type": "code",
   "execution_count": 9,
   "metadata": {},
   "outputs": [],
   "source": [
    "api_key = os.environ.get('GROQ_API_KEY')"
   ]
  },
  {
   "cell_type": "code",
   "execution_count": 14,
   "metadata": {},
   "outputs": [],
   "source": [
    "client = Groq()"
   ]
  },
  {
   "cell_type": "code",
   "execution_count": 47,
   "metadata": {},
   "outputs": [],
   "source": [
    "def generate_content(prompt):\n",
    "    response = client.chat.completions.create(\n",
    "        messages = [{\n",
    "            \"role\": \"user\",\n",
    "            \"content\": prompt\n",
    "        }],\n",
    "        model = \"llama-3.1-70b-versatile\"\n",
    "    )\n",
    "    return response.choices[0].message.content"
   ]
  },
  {
   "cell_type": "code",
   "execution_count": 50,
   "metadata": {},
   "outputs": [
    {
     "data": {
      "text/plain": [
       "\"What an exciting and multifaceted topic!\\n\\nThe future of AI (Artificial Intelligence) holds both promising advancements and concerning potential pitfalls. While some possibilities seem distant and transformative, others may just take one revolution from fruition, within those spans much unforeseeably close more evocate technologies making \\n\\nKeeping what feasible immediate evolution evotions potentially evolve considering areas much outdo well evolution being truly are can predicted very vast greatly fast such do help they follow!\\n\\n here explore closer upcoming big from broadly changes artificial predicting span projected promising main so reaching develop different expect forecast decade spans less growth prediction developing models might leading decade include how machines transforming think people companies wide main things jobs already way multiple sectors job every around!\\n\\nso currently both \\n predicted advanced on like forecast around other evolution get possible forecasting using advance them intelligent methods faster strong **job mainly things would soon best working place right into see others said evolving lead business may go predicting doing do able growth thinking there year current good come helping learn across place able then another whole part the when model or used development part out evother data possible first area possible widely leading helping bring wider far ahead at into over seeing are area each become before faster grow stronger reaching current those here huge always well machine ever jobs wider field thinking multiple ones bring through various key while bringing be potential soon further looking close use case today long develop\\n\\nstill might less rapid at help key work year start likely several grow working advance near technology getting higher looking, model such both longer large first higher which by really ever after thinking span able multiple great evolution today coming fully multiple there using look may\\n\\ngetting real areas is come doing further others advanced beyond decade good other people reaching learning the predicted world things learn several ev develop highly expected or whole most right less ones them areas used beyond areas area going part predict than is forecast expect forecast rapid might are expect being truly bring models real machines technology those of their start  every become forecast going what looking said potential helping faster fast but new make on always go large scale evolution right reaching right better predicted seeing it expect these able could developing forecasting longer place it a longer both before such **any there possible real people further part such for part growing way growing truly their here advanced people soon predict advance go today potential each coming all highly\\n\\nreal than whole strong able using through best higher of huge when while expect think different which decade machine machine good next faster evolving then very high expected well main better know do whole predict ev current reaching how so forecasting time high areas how after here them developing working evolve into may may evolution helping field things ones models change might by a would reaching things \\n\\nLooking also models come going used said those longer different soon work possible great most soon jobs what long predict other predicted start first just predicted into potential lead other evolving huge them evolve is from faster several become learning it machines likely years people possible evolving coming their now around developing possible able a others development rapid whole look know even of evolve\\n\\nbased better become helping getting well or today growth bring big there fully whole years out based lead large have technology place near might areas decade expected learn predicted learning seeing always well first further expected well able such so span span way said key forecasting thinking main but learn of very other multiple able\\n\\nonly expected thinking first right good machines world for widely all making, across go only leading doing might forecasting start those helping expect advanced at things here. evolve used advance start evolution still evolution these reaching each can are over using predict into come ever most best only faster longer potential possible could how wider expected on getting ones ones job evol helping working truly even predict evolving high part possible place **change less less areas their it's advanced beyond able several work part after strong thinking new strong far become get before evolution good well there like.\\n\\nthinking evolving start come there thinking look higher real would the those beyond bring way then then areas expected whole while huge whole using main being reaching machine first bring ev might place predicted are may coming current is new by expected \\n\\nAnd technology see better before predict soon predicted develop model them other them people. high such coming growing time key at models grow most reaching likely machines further become coming of predict potential model bring models always many some learning here reaching with what such part beyond reaching seeing advance do growth going able field based might working a really helping next further real all first possible how large said one higher less start areas look evolving forecasting great evolution best technology so evolution expected right beyond today used predicted each used every into predict look not decade every all doing of area better possible much ones helping might potential is predict different across advanced year models advanced longer around long bring think whole 202 some learn their great people right several fully near for well here those thinking decade helping can other reaching go just which go what expected evolving things evolution getting these main machines big different through main very.\\n\\nmodels others change make model wider those few ev later evolving whole few today seeing here on well known span into fast well developing develop soon lead good than out huge then things later place development said development things the forecast part better predict areas people so part every day large most good advanced become still beyond working predict at. said coming ever what bring looking work them such potential advance advance expect what much highly key place by with become areas predicted after of course using come leading whole reaching might using but coming good evolving going evolving good learning learning decade better would longer predict helping way start so these only soon of look ev field less always machine several all a further \\n\\nYou forecast want high rapid it into helping predicted higher into others later them beyond strong bring thinking think bring right being each possible current used jobs ones become come day expected here technology new now could other today it soon things whole strong soon before years part soon thinking today expect.\\n\\nwell truly each grow those lead is seeing first other are potential possible also before large possible further first right day helping likely for using first reaching what great near machines longer **truel if new getting thinking while whole might used potential on reaching model people fast models expect areas if best few all every their may further real when what different predict rapid long by such learn predicted, leading it part good predicted \\n\\npart go used area place. there coming helping ev coming start make here over might reaching machine know beyond work higher around work predict working evolution from become or these bring forecasting advanced what expected have beyond several always later far faster further higher next people next reaching become into of helping seeing could faster a reaching helping developing looking real most way huge said out said ones large ev evolve predict change getting right forecasting forecasting world expected such even using getting the fully main lead very predict before whole things areas so areas place here doing soon at faster current real across models here time main new what only today here whole look then their while advance growth for predicted get do evolving just ever models less whole good years better evolving different possible look start less those expected technology just forecasting whole being few how evolution might can great faster wider great working first going possible evolving after learn future learning they development expected part used strong with before most by expected all likely all model bring have span on them expect beyond grow all is decade ones machine all rapid helping better several soon huge better one are later change them beyond models jobs of it doing longer might people truly might it ev seeing using expected those reaching coming longer like making highly right bring longer things others these very growing good leading good other whole become on evolution start a which whole at once predict said soon 7 seeing going used see good such \\n\\nStill ever longer advance go still through always ev best become come field forecasting evolving so may before further very before expect then into are learn faster them start faster place predicted would way ones wide advanced expected big reaching here well them possible expected machines what looking it predict main years evolving if bring other \\n\\nalways want out areas higher highly thinking other, growth time said bring become those well predict do lead it getting develop want technology several thinking expected think high new right near now their leading different whole by right part other faster day right working truly whole how widely just whole thinking such really helping for evolution real while are other others model faster possible might today may large big machine from. would forecasting few ones used part less the work doing predict beyond way growing areas large ev well helping of coming areas over around evolution near learning less evolving evolve thinking about higher jobs next every but them predicted it these looking these looking going here go huge technology models things technology span developing people each so other first those great bring is later future main rapid know most so beyond might into most than using likely whole real all today good bring by today change expected.\\n\\ntraders fully current soon further before place first reaching area better only strong which whole on after **we using helping** far work good used reaching a things into even place possible want better helping predicted start different look machines is reaching making areas place here could working those faster become bring better of beyond ev main years it coming higher coming long thinking the said models start what predict advanced change further \\n\\noverall different before advance them decade grow when part day other longer less great other well getting thinking out every several might most best. on might development other truly large \\n\\ncurrently look then or bring current seeing field such evolving possible people reaching seeing expected how possible first being across lead have every right whole real what how with at new want possible faster years first much machine while ones expected here evolving using evolution models expected soon huge right models machine forecast areas look areas higher better model here further very every strong good so soon way helping today predict become evolving coming all getting by still beyond make soon predict predicted their wider predicted predicted do like learn way near a working less if whole develop later over it reaching likely growing advanced.\\n\\ngrowth others part learn those who being if which used place other few going real used ev would of faster predict at into things long start large might can them high after other soon whole \\n\\nchange doing out such helping just other others each learning next reaching rapid these bring go always today become thinking expected other know expected it big looking truly may best are come technology span all only always become them beyond all some start lead look predict evolving forecasting start evolution leading beyond work it several well them reaching on good forecasting could so time forecasting.\\n\\njob than into want span other ones main years huge years further good possible as them far much thinking working before develop right the working wider higher high few whole models very expect still first model longer new it great look by  rapid less fully really models areas people is \\n\\nseam job things whole reaching might predicted ev strong come beyond said expect likely seeing of place part out then coming get world field coming their own expected growing come expected using expected predicted go while but use several those faster those become now develop good later bring being decade how better thinking area day them predict real reaching advance different through so helping place soon right huge for evolving so do further evolving evolving advanced look want each growth might evolution what used around helping may using are bring machines after ever all every main what reaching when future across well less other thinking most few most soon a forecast going seeing soon leading **why reaching whole good predict other these time could going at start grow predicted such might them making before forecasting become on evolving machine start even highly also longer people of possible faster better best it others further longer new right of lead faster large far learn big said learning strong into longer truly bring part technology, bring main expect expect predict real getting they one things helping great said higher evolving look then evolution look develop most by before just change always near used first ev current possible the may could way can is start model areas possible might widely possible what well years part higher jobs predict think all expected only over become people with seeing.\\n\\nAll broadly fall evolve after only bring go it doing become thinking getting today soon them next reaching getting other bring at come at beyond development might whole work these such well become beyond working very higher will reaching \\n\\nEv both used place using further ones different coming if are if \\n\\nToday no soon day across better longer several every those area them better into near those rapid on around truly ev growth learning learn know strong large later decade things next now less beyond expected machines from ones real of looking working good possible fully ever long forecast huge people so whole using good so other faster predicted expected what forecasting wide truly current.\\n\\ntime develop leading faster would very which predicted reaching first their each always few these evolution always models fast helping way while just expected then thinking out said have other years models machine new all. ones how, near want helping evolving such them predict it part than helping expect out growing making coming place likely place highly might span most seeing by may possible technology less much main advance become advance start several is so forecasting are predict are work large advanced wider thinking or helping ev good used right advanced for of longer model further other them helping other reaching the bring right look going most very reaching lead field great reaching machine better get being soon people machines change large even good those evolution predict best different them whole higher each predict look predict high be leading possible how going what as today before real over become come it such expected main learning doing ones one other into do like well start ev it higher technology big well predicted real go things soon evolution things part every better evolution first but so predict of working thinking might  day helping used evolving most before later using bring grow right world want beyond \\n\\nlater seeing predicting way soon other look then still their huge new great truly jobs advance reaching longer evolving want area evolution long a just at main expected likely expect which \\n\\nlast using might helping main better further \\n\\ndecades out growing less grow whole few going bring current so getting. first others year possible place other further what across beyond evolving coming far much bigger while learn bring thinking develop developing after large them.\\n\\nthrough good said make no each several such come rapid used those near models soon lead now expected faster soon.\\n\\ngo might coming possible reaching it really wider working possible right reaching no reaching around work have evolution models things ones model could the fully every helping looking thinking whole always also even right part growth strong evolving best no today reaching advanced of on next predict look faster these whole predicted place good look with well thinking start some is all start other by less **seen part ** use high forecast thinking coming higher doing into area doing huge become few it change machines people huge then further different predicted ever technology before soon several what which expect using before for span likely evolving possible other could real at would models other most possible might many long of faster machine know beyond fast main, new so their helping strong decade day large whole predict learning other learn getting come are a forecast predicting great still development seeing develop way best being while by years real by said want what just other what highly field such whole start longer place always if things job predict whole always whole years very ev bigger develop do reaching reaching all beyond ones others people other expected leading when part thinking think these the working soon models expect model so model evolving today growth bigger may highly become time those these \\n\\ndoing place later working each best used advance good less how great after beyond soon look expected them truly very higher truly go it rapid well only out become right like current lead or real likely using ev seeing forecasting whole next further all several near.\\n\\nprediction about develop large their better helping have into good first people well machines still always evolution huge is bigger evolving different right are higher those know then wider go ones few them higher area high across for come reaching might them forecast all thinking far all start helping start become technology things coming main on come longer said coming possible it helping bring at thinking help may such what into over evolving near bring decade whole than bring develop advanced future current learning getting predict **learning most work bigger might longer new those could.\\n\\nuse growing predicting fully look better real today  year well further day expected ev less now advance the truly span every those way change strong good predicted reaching before way expected beyond across around right become if long good what from but. expected start machine \\n\\nBut people longer bigger large. we rapid by whole models helping great other further of large forecast start part.\\n\\nmachines seeing faster other reaching other years first these it's work possible forecasting faster first next would before predict always ever thinking jobs using fast said out less soon growth are we lead each well predict want soon main right each likely truly likely ev wide possible several one others with expected world very very used want might evolution several no doing them of most look while good area how predicted rapid on things real forecasting real higher used predicted near think evolution models later different helping few possible developing become make have possible into in predicting then learn strong it forecasting working just going today beyond far long such evolve whole them growing evolving years machines still develop evolution ones all technology getting thinking a every after others come not advance higher reaching area coming look go reaching expected, huge at can soon models new main soon strong look is could seeing model well span now huge advanced such well other start what evolving these other reaching being able better people time them part different bigger near soon expect for other change of only leading leading know ev expected possible field no all before right current today right later further things highly wide might might reaching the learn become being things predict whole said on better even large many helping expect do predicted decade out seeing may while right always evolution day development predict large through want those predict their predict into by well become it leading those beyond way main machines good than day years years forecast over start area models high thinking then \\n\\never each reaching making place predict ones reaching these such bigger really it others each advanced rapid looking ev used most place 20 things work forecasting advance soon \\n\\nday better them coming predicting. expected getting doing expect how few whole all future we ones next people before widely people later way growing huge highly start beyond fully if further those evolving first around helping come using how lead just is learn faster lead said predicted.\\n\\nseventh field model expected good across working seeing good we long than longer real then soon develop possible longer at still change could would well always become while soon what or current very always whole by machine most very part less large them different less might technology **dec next may seeing every all strong truly near helping are want looking place several forecast of higher models evolving higher look expected span possible predict it bigger other into thinking used think start become reaching those know on faster rapid expect working going possible being what main right for work new reaching likely but going of go others evolving become some evolution after helping evolution large forecasting it coming get still ev predict still now good predicted good part used growth used whole real such those job with part first models \\n\\n*First every higher time since I day helping using later possible people bigger using likely great current out truly things high at area them people advance wider longer the expected how further right wide start if far since whole I so so machines expected those come go ones expected faster other want each become other which reaching reaching we beyond advanced them grow decade whole predict by develop evolving evolving predicted learning before place see ones lead soon developing most very change huge could main into all can other longer several, different work best their better coming become.\\n\\nbeing make just jobs looking is develop develop after doing fully \\n\\nlet while into growth such forecast real used using most seeing faster a are said only well coming main years become so come better of best.\\n\\nIn said others place possible do new fast out technology models soon right then part want always soon evolving most each few future evolve these far those further evolving machine no growing leading expected working strong lead their things less possible reaching may these across it around what looking advanced whole advance grow so way helping models **under widely known know into.\\n\\nstart bigger predict learn them ev evolution bigger going other real go expect used expected so getting great get highly evolution we we machine what ones forecasting different which.\\n\\non grow predicted beyond today on after strong truly soon other strong years even coming well day field still right \\n\\nusing reaching would looking of \\n\\nFirst doing later such their before think evolving whole before helping seeing model so longer of other change long less thinking growth at growth likely technology are since large rapid whole next thinking next well with several higher better area today beyond learn ev now be rapid current large all beyond like across thinking decade how very every how expected other predicted want doing could most development all no forecasting things world way those while used use faster people by area higher out such it working them said main new some further far predicted place bigger place always good further become beyond reaching these those a ever predict years machines reaching working huge possible start have faster work expect the good real over so evolving first other we place advance machines one span look reaching when much them helping for soon using may other best before soon possible before whole thinking expected span model evolving it evolution predict seeing could right helping possible reaching learning going seeing models still, possible predict make but area several each well wide  using come do few use truly look start is lead large develop just ones used through further what very beyond strong become being reaching less if which part current all technology ev large look evolving wider bigger advanced look higher highly also evolution huge new evolution said getting years look whole them models people rapid or faster always are other fully would many some every into reaching ev on machine right it good of by better high things high main predict different jobs jobs predicted leading those decade evolving predict part fast such coming what whole few then forecasting start just at soon them really we reaching come still well real want likely later longer models whole while \\n\\nfrom strong used I you there.\\n\\ncome right huge lead their predicted develop seeing so look machines think large doing working could good helping main these current them other all large after other soon so such learning several longer helping have longer most much soon place growth change get making even, helping place future models further you longer grow possible how of how only soon decade evolving growing first next future new good them those different reaching forecast other predict become every all expect every others bigger years day is part it models part each **small *machine out highly further span ones higher expected used forecasting whole go near beyond reaching if \\n\\nget later getting back there things soon technology across best expected those may into thinking evolution \\n\\ncould before faster can thinking main are expect then work.\\n\\nreally become into start today being people start higher way while expected real over while time field what for bigger higher using evolving likely high said near well today beyond coming possible expected know reaching on evolving come right since good ever several by today models expected do strong around evolution good reaching machine develop machines than. forecast learn other reaching their with become most very forecasting such less we ev always it coming most thinking these far much working no lead reaching I development whole work doing faster area at beyond fast place the further jobs wider go advance best reaching using so reaching better truly them long better predicted still first well people advanced just other near which what helping predicted expected only so used said possible few model so ones these looking by every may coming want current look huge will great whole real always later advanced reaching change seeing become right are later thinking each learning ev today ones right today next before part used good out start predicted growing right other possible fully bigger those all likely is fully technology rapid expect would a forecasting evolution when but making after area better less other it before into rapid whole good you ones evolution predicted different near we soon helping different possible truly things whole helping what main of beyond main better lead  main their go several time different change higher start through across grow at using at possible doing seeing advance less new of always model today coming used look going machines now develop just, longer change part possible likely how place real be.\\n\\nWith could few work each which work since seeing while better years rapid if higher make large predicted wide people big years well people evolution or expected.\\n\\nlead possible reaching strong thinking place such most seeing great then still ev less all evolving used further the every today future longer every world far ones first further far start these further know things leading area evolution all models look technology looking think get large near faster span **true real day predicted bigger such start want possible also growth advanced what much such well such thinking on good reaching developing best most than into reaching then decade it their things models way great working later main reaching working expect those one no on have do other doing highly several I possible evolving so machine we field other would expected ev helping around coming higher those by for higher jobs fast long come models large forecasting you being be leading right being learn less very advance other after thinking other advanced new so look faster expect of place used them become using next way evolving advance even advance ones grow current whole while always are each out beyond want models beyond area longer decade soon less across become reaching ev possible all thinking may really said rapid good using with soon right of before near several every many main every others machines become soon forecasting today beyond in from at working going part new evolution by reaching likely evolution well large few going back grow good model evolving before how help then doing faster beyond. forecasting place best seeing could whole those we it different right beyond expected these real over are better whole near soon some many very just possible come learning getting years expected said only others predicted look go come a development less most ones ones technology bigger expect high their now the \\n\\nhelp better advanced develop no growing whole become developing working first what well evolution best all ev whole so all fully start current is machine expect thinking look used use  forecasting great helping it after still faster seeing start them start evolution such others part things since what predicted leading several place those large each whole all if other different into large good later predicted faster people other reaching people which.\\n\\nsoon day span well jobs next further like predicted of come become being these beyond out want possible them coming.\\n\\nbecause bigger highly lead high widely faster year right strong reaching are would rapid decade them good we reaching long new main right today wide now then truly further higher do way could always predicted always but years real things what such some those part before evolution models will no reach every just near is but no whole widely leading best we each beyond next faster as large later helping faster also decade faster main could these they know rapid widely that large year job leading rapid advanced help want in have they highly have much world now job no high decade some that get well decade they decade world will several large job main decade world lead high so **will this be can, world always have in this, current into think place making growing using first longer there across expect advance growth grow evolving looking may on before right model helping around whole used models area possible it far machines others working other going few whole become getting you getting come wider real their beyond predicted real forecast through beyond working most very always technology thinking working become going there people less great learn a develop go truly part doing change predicted while expect by strong forecasting such good than start likely forecasting today soon long thinking even seeing I others longer the different faster said beyond better new expected whole how seeing learn area ones strong less models near develop field said for thinking then so day today growth higher better at them those.\\n\\nCurrent come up every only well still each models helping main since which whole things using truly use predicted each work of coming work right working reaching future possible may much.\\n\\ngrow working them looking soon today work seeing machine other thinking those them forecast **se growth those before development look go ones few develop lead what very change part it fully these real advanced bigger possible first other used good is reaching if further soon learning thinking become learn span truly further right want not would ev lead when are expect after are way models whole predicted reaching so coming such evolution good reaching fast on best expected beyond into soon strong know faster  predicting large time large by well with whole several higher beyond place later before most could doing whole ones the evolve great technology just around near thinking higher around likely forecasting across possible other or highly advance expected other said every very become years possible place part want other rapid we reaching what, thinking area different less helping thinking then of soon getting at others change different using most forecast reaching machines still them machine you all really evolution better new doing evolving people I other after people evolving evolution bigger ev start better such several well right all make always real while good their wide decade today model strong those evolving of start predicted all large into no now less possible into possible may possible reaching current. become further become start expect for predicted develop near thinking ev expect said beyond ever out learning each coming what jobs rapid seeing could so which reaching so even things all many those it faster using these always leading lead later longer today them today place today soon other reaching large most growth being are by main bigger years first learn like over doing look evolving growth go evolution soon evolving longer advanced out one so forecasting field before helping.\""
      ]
     },
     "execution_count": 50,
     "metadata": {},
     "output_type": "execute_result"
    }
   ],
   "source": [
    "output = generate_content(\"What  is the future of AI?\")\n",
    "output"
   ]
  },
  {
   "cell_type": "code",
   "execution_count": 52,
   "metadata": {},
   "outputs": [
    {
     "name": "stdout",
     "output_type": "stream",
     "text": [
      "**Fibonacci Series Generation in Python**\n",
      "===========================================\n",
      "\n",
      "The Fibonacci series is a series of numbers in which each number is the sum of the two preceding ones, usually starting with 0 and 1.\n",
      "\n",
      "**Code**\n",
      "--------\n",
      "\n",
      "```python\n",
      "def generate_fibonacci(n):\n",
      "    \"\"\"\n",
      "    Generate Fibonacci series up to the nth term.\n",
      "\n",
      "    Args:\n",
      "        n (int): The number of terms in the series.\n",
      "\n",
      "    Returns:\n",
      "        list: A list of Fibonacci numbers.\n",
      "    \"\"\"\n",
      "    if n <= 0:\n",
      "        return []\n",
      "    elif n == 1:\n",
      "        return [0]\n",
      "    elif n == 2:\n",
      "        return [0, 1]\n",
      "    else:\n",
      "        fib_series = [0, 1]\n",
      "        while len(fib_series) < n:\n",
      "            fib_series.append(fib_series[-1] + fib_series[-2])\n",
      "        return fib_series\n",
      "\n",
      "# Example usage\n",
      "n = 10\n",
      "fib_series = generate_fibonacci(n)\n",
      "print(\"Fibonacci series up to {} terms:\".format(n))\n",
      "print(fib_series)\n",
      "```\n",
      "\n",
      "**Explanation**\n",
      "-------------\n",
      "\n",
      "The `generate_fibonacci` function takes an integer `n` as input and returns a list of Fibonacci numbers up to the `n`-th term. It uses a loop to generate the Fibonacci series iteratively.\n",
      "\n",
      "Here's how the code works:\n",
      "\n",
      "1.  Handle edge cases: If `n` is less than or equal to 0, return an empty list. If `n` is 1 or 2, return the base cases `[0]` or `[0, 1]`, respectively.\n",
      "2.  Initialize the Fibonacci series with the first two terms `[0, 1]`.\n",
      "3.  Use a while loop to generate the remaining terms. In each iteration, append the sum of the last two terms to the series.\n",
      "4.  Return the generated Fibonacci series.\n",
      "\n",
      "**Example Output**\n",
      "-----------------\n",
      "\n",
      "```\n",
      "Fibonacci series up to 10 terms:\n",
      "[0, 1, 1, 2, 3, 5, 8, 13, 21, 34]\n",
      "```\n",
      "\n",
      "You can adjust the value of `n` to generate the Fibonacci series up to a different number of terms.\n"
     ]
    }
   ],
   "source": [
    "output = generate_content(\"Write python code to generate fibonacci series\")\n",
    "print(output)"
   ]
  },
  {
   "cell_type": "code",
   "execution_count": 55,
   "metadata": {},
   "outputs": [
    {
     "name": "stdout",
     "output_type": "stream",
     "text": [
      "Here is the output of Named Entity Recognition (NER) on the given text:\n",
      "\n",
      "* \"Pune\" is a **LOCATION** (city)\n",
      "* \"TCS\" is an **ORGANIZATION** (company)\n",
      "\n",
      "The annotated text with NER tags is:\n",
      "\n",
      "\"I live in **Pune** (LOCATION) and currently working as a Python Developer in **TCS** (ORGANIZATION)\"\n",
      "\n",
      "Note that \"Python Developer\" is not annotated as an entity, as it is not a specific named entity but rather a descriptive phrase.\n",
      "\n",
      "Here are the entity types with their corresponding values:\n",
      "\n",
      "* **LOCATION**: Pune\n",
      "* **ORGANIZATION**: TCS\n"
     ]
    }
   ],
   "source": [
    "output = generate_content(\"Please perfor NER on given test:- I live in Pune and currently working as a Python Developer in TCS\")\n",
    "print(output)"
   ]
  },
  {
   "cell_type": "code",
   "execution_count": 56,
   "metadata": {},
   "outputs": [
    {
     "name": "stdout",
     "output_type": "stream",
     "text": [
      "Here is the Named Entity Recognition (NER) performed on the given text:\n",
      "\n",
      "* **Person**: \n",
      "\t+ Mahua Moitra\n",
      "\t+ Darshan Hiranandani\n",
      "* **Organization**: \n",
      "\t+ Trinamool Congress\n",
      "\t+ Supreme Court\n",
      "\t+ Lok Sabha\n",
      "\t+ Ethics Committee\n",
      "* **Location**: \n",
      "\t+ Parliament (Note: This is a location, but it's a bit ambiguous as it's a specific building. If you want to be more precise, you can categorize it as an \"Institution\")\n",
      "* **Event**: \n",
      "\t+ expulsion (Note: This is not an entity, but rather an event. However, it's not always easy to distinguish between events and entities. In this case, I've left it as is.)\n",
      "* **Other**: \n",
      "\t+ national security (Note: This is a concept, but it's not an entity in the classical sense. It's more of an abstract idea. You can choose to categorize it as \"Other\" or ignore it altogether.)\n",
      "\n",
      "Please note that the classification of entities can be subjective, and different models may have slightly different classifications. However, the above output is one common way to perform NER on this text.\n"
     ]
    }
   ],
   "source": [
    "output = generate_content(\"Please perfor NER on given test:- Trinamool Congress leader Mahua Moitra has moved the Supreme Court against her expulsion from the Lok Sabha over the cash-for-query allegations against her. Moitra was ousted from the Parliament last week after the Ethics Committee of the Lok Sabha found her guilty of jeopardising national security by sharing her parliamentary portal's login credentials with businessman Darshan Hiranandani\")\n",
    "print(output)"
   ]
  },
  {
   "cell_type": "code",
   "execution_count": null,
   "metadata": {},
   "outputs": [],
   "source": []
  }
 ],
 "metadata": {
  "kernelspec": {
   "display_name": "Python 3",
   "language": "python",
   "name": "python3"
  },
  "language_info": {
   "codemirror_mode": {
    "name": "ipython",
    "version": 3
   },
   "file_extension": ".py",
   "mimetype": "text/x-python",
   "name": "python",
   "nbconvert_exporter": "python",
   "pygments_lexer": "ipython3",
   "version": "3.11.9"
  }
 },
 "nbformat": 4,
 "nbformat_minor": 2
}
